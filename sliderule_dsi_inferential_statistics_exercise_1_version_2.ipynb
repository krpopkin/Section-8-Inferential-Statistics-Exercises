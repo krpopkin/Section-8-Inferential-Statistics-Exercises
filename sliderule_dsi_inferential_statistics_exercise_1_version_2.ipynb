{
 "cells": [
  {
   "cell_type": "markdown",
   "metadata": {},
   "source": [
    "# What is the True Normal Human Body Temperature? \n",
    "\n",
    "#### Background\n",
    "\n",
    "The mean normal body temperature was held to be 37$^{\\circ}$C or 98.6$^{\\circ}$F for more than 120 years since it was first conceptualized and reported by Carl Wunderlich in a famous 1868 book. But, is this value statistically correct?"
   ]
  },
  {
   "cell_type": "markdown",
   "metadata": {},
   "source": [
    "<h3>Exercises</h3>\n",
    "\n",
    "<p>In this exercise, you will analyze a dataset of human body temperatures and employ the concepts of hypothesis testing, confidence intervals, and statistical significance.</p>\n",
    "\n",
    "<p>Answer the following questions <b>in this notebook below and submit to your Github account</b>.</p> \n",
    "\n",
    "<ol>\n",
    "<li>  Is the distribution of body temperatures normal? \n",
    "    <ul>\n",
    "    <li> Although this is not a requirement for the Central Limit Theorem to hold (read the introduction on Wikipedia's page about the CLT carefully: https://en.wikipedia.org/wiki/Central_limit_theorem), it gives us some peace of mind that the population may also be normally distributed if we assume that this sample is representative of the population.\n",
    "    <li> Think about the way you're going to check for the normality of the distribution. Graphical methods are usually used first, but there are also other ways: https://en.wikipedia.org/wiki/Normality_test\n",
    "    </ul>\n",
    "<li>  Is the sample size large? Are the observations independent?\n",
    "    <ul>\n",
    "    <li> Remember that this is a condition for the Central Limit Theorem, and hence the statistical tests we are using, to apply.\n",
    "    </ul>\n",
    "<li>  Is the true population mean really 98.6 degrees F?\n",
    "    <ul>\n",
    "    <li> First, try a bootstrap hypothesis test.\n",
    "    <li> Now, let's try frequentist statistical testing. Would you use a one-sample or two-sample test? Why?\n",
    "    <li> In this situation, is it appropriate to use the $t$ or $z$ statistic? \n",
    "    <li> Now try using the other test. How is the result be different? Why?\n",
    "    </ul>\n",
    "<li>  Draw a small sample of size 10 from the data and repeat both frequentist tests. \n",
    "    <ul>\n",
    "    <li> Which one is the correct one to use? \n",
    "    <li> What do you notice? What does this tell you about the difference in application of the $t$ and $z$ statistic?\n",
    "    </ul>\n",
    "<li>  At what temperature should we consider someone's temperature to be \"abnormal\"?\n",
    "    <ul>\n",
    "    <li> As in the previous example, try calculating everything using the boostrap approach, as well as the frequentist approach.\n",
    "    <li> Start by computing the margin of error and confidence interval. When calculating the confidence interval, keep in mind that you should use the appropriate formula for one draw, and not N draws.\n",
    "    </ul>\n",
    "<li>  Is there a significant difference between males and females in normal temperature?\n",
    "    <ul>\n",
    "    <li> What testing approach did you use and why?\n",
    "    <li> Write a story with your conclusion in the context of the original problem.\n",
    "    </ul>\n",
    "</ol>\n",
    "\n",
    "You can include written notes in notebook cells using Markdown: \n",
    "   - In the control panel at the top, choose Cell > Cell Type > Markdown\n",
    "   - Markdown syntax: http://nestacms.com/docs/creating-content/markdown-cheat-sheet\n",
    "\n",
    "#### Resources\n",
    "\n",
    "+ Information and data sources: http://www.amstat.org/publications/jse/datasets/normtemp.txt, http://www.amstat.org/publications/jse/jse_data_archive.htm\n",
    "+ Markdown syntax: http://nestacms.com/docs/creating-content/markdown-cheat-sheet\n",
    "\n",
    "****"
   ]
  },
  {
   "cell_type": "code",
   "execution_count": 62,
   "metadata": {},
   "outputs": [],
   "source": [
    "import warnings\n",
    "warnings.filterwarnings('ignore')"
   ]
  },
  {
   "cell_type": "code",
   "execution_count": 63,
   "metadata": {},
   "outputs": [
    {
     "name": "stdout",
     "output_type": "stream",
     "text": [
      "C:\\Users\\Ken\\Documents\\KenP\\Applications-DataScience\\SpringboardCourseWork\\Section8.3Mini-Projects\\1AnalyzeHumanBodyTemperature\\EDA_human_temperature\n"
     ]
    }
   ],
   "source": [
    "%cd C:\\Users\\Ken\\Documents\\KenP\\Applications-DataScience\\SpringboardCourseWork\\Section8.3Mini-Projects\\1AnalyzeHumanBodyTemperature\\EDA_human_temperature"
   ]
  },
  {
   "cell_type": "code",
   "execution_count": 64,
   "metadata": {},
   "outputs": [],
   "source": [
    "import pandas as pd\n",
    "import numpy as np\n",
    "import matplotlib.pyplot as plt\n",
    "import seaborn as sns\n",
    "import statsmodels.api as sm\n",
    "import scipy.stats as stats"
   ]
  },
  {
   "cell_type": "code",
   "execution_count": 65,
   "metadata": {},
   "outputs": [],
   "source": [
    "df = pd.read_csv('data/human_body_temperature.csv')"
   ]
  },
  {
   "cell_type": "code",
   "execution_count": 66,
   "metadata": {},
   "outputs": [
    {
     "data": {
      "text/html": [
       "<div>\n",
       "<style scoped>\n",
       "    .dataframe tbody tr th:only-of-type {\n",
       "        vertical-align: middle;\n",
       "    }\n",
       "\n",
       "    .dataframe tbody tr th {\n",
       "        vertical-align: top;\n",
       "    }\n",
       "\n",
       "    .dataframe thead th {\n",
       "        text-align: right;\n",
       "    }\n",
       "</style>\n",
       "<table border=\"1\" class=\"dataframe\">\n",
       "  <thead>\n",
       "    <tr style=\"text-align: right;\">\n",
       "      <th></th>\n",
       "      <th>temperature</th>\n",
       "      <th>gender</th>\n",
       "      <th>heart_rate</th>\n",
       "    </tr>\n",
       "  </thead>\n",
       "  <tbody>\n",
       "    <tr>\n",
       "      <th>0</th>\n",
       "      <td>99.3</td>\n",
       "      <td>F</td>\n",
       "      <td>68.0</td>\n",
       "    </tr>\n",
       "    <tr>\n",
       "      <th>1</th>\n",
       "      <td>98.4</td>\n",
       "      <td>F</td>\n",
       "      <td>81.0</td>\n",
       "    </tr>\n",
       "  </tbody>\n",
       "</table>\n",
       "</div>"
      ],
      "text/plain": [
       "   temperature gender  heart_rate\n",
       "0         99.3      F        68.0\n",
       "1         98.4      F        81.0"
      ]
     },
     "execution_count": 66,
     "metadata": {},
     "output_type": "execute_result"
    }
   ],
   "source": [
    "df.head(2)"
   ]
  },
  {
   "cell_type": "markdown",
   "metadata": {},
   "source": [
    "<div class=\"span5 alert alert-success\">\n",
    "<p> Question #1: <br>\n",
    "    Is the distribution of body temperatures normal? </p>\n",
    "</div>"
   ]
  },
  {
   "cell_type": "code",
   "execution_count": 67,
   "metadata": {},
   "outputs": [
    {
     "data": {
      "image/png": "[encoded data removed]",
      "text/plain": [
       "<Figure size 432x288 with 1 Axes>"
      ]
     },
     "metadata": {},
     "output_type": "display_data"
    }
   ],
   "source": [
    "#Visually look for normal distribution via a histogram - based on the histogram below it appears that temperature tends\n",
    "#towards a normal distribution.\n",
    "_= plt.hist(df.temperature)\n",
    "_= plt.xlabel('Temperature')\n",
    "_= plt.ylabel('Readings')\n",
    "plt.show()"
   ]
  },
  {
   "cell_type": "code",
   "execution_count": 68,
   "metadata": {},
   "outputs": [
    {
     "data": {
      "image/png": "[encoded data removed]",
      "text/plain": [
       "<Figure size 432x288 with 1 Axes>"
      ]
     },
     "metadata": {},
     "output_type": "display_data"
    }
   ],
   "source": [
    "#Visually look for a normal distribution via a Quartile Plot - data points congregate tightly along the line\n",
    "#so this data appears to be normally distributed.\n",
    "\n",
    "mean = np.mean(df['temperature'])\n",
    "sd = np.std(df['temperature'])\n",
    "z = (df['temperature'] - mean) / sd\n",
    "sm.qqplot(z, line='45')\n",
    "\n",
    "plt.show()"
   ]
  },
  {
   "cell_type": "markdown",
   "metadata": {},
   "source": [
    "<div class=\"span5 alert alert-success\">\n",
    "<p> Question #2: <br>\n",
    "    Is the sample size large? <br>\n",
    "    Are the observations independent? </p>\n",
    "</div>"
   ]
  },
  {
   "cell_type": "code",
   "execution_count": 69,
   "metadata": {},
   "outputs": [
    {
     "name": "stdout",
     "output_type": "stream",
     "text": [
      "Object `large` not found.\n",
      "Object `independent` not found.\n"
     ]
    }
   ],
   "source": [
    "Is the sample size large?\n",
    "#Since I have 130 samples, and 130 > 30, the sample size can be considered large.\n",
    "\n",
    "Are the observations independent?\n",
    "#The observations are independent because each observation is a person's body temperature. Since it is \"each person\",\n",
    "#the body temperature of that person is not dependent on the body temperature of another person.\n"
   ]
  },
  {
   "cell_type": "markdown",
   "metadata": {},
   "source": [
    "<div class=\"span5 alert alert-success\">\n",
    "<p> Question #3: Is the true population mean really 98.6 degrees F? <br>\n",
    "    a. First, try a bootstrap hypothesis test. <br><br>\n",
    "    \n",
    "    b. Now, let's try frequentist statistical testing: <br>\n",
    "    Would you use a one-sample or two-sample test? Why? <br>\n",
    "    In this situation, is it appropriate to use the t or z statistic? <br>\n",
    "    Now try using the other test. How is the result different? Why?\n",
    "    \n",
    "</div>"
   ]
  },
  {
   "cell_type": "code",
   "execution_count": null,
   "metadata": {},
   "outputs": [],
   "source": [
    "#Question #3 Is the true population mean really 98.6 degrees F?\n",
    "#Bootstrap hypothesis test.\n",
    "\n",
    "#Hypothesis statement: H0: u = 98.6\n",
    "#Alternate hypothesis: H1: u <> 98.6\n",
    "\n",
    "#Since the calculated p-value (see below) is 0.0 and 0 < 0.05 (95% confidence), the probability of observing the 98.6 degrees\n",
    "#in the data we have is low."
   ]
  },
  {
   "cell_type": "code",
   "execution_count": null,
   "metadata": {},
   "outputs": [],
   "source": [
    "#3a - function used for question #3 below \n",
    "def bootstrap_replicate_1d(data,func):\n",
    "    bs_sample = np.random.choice(data,size=len(data))\n",
    "    return func(bs_sample)"
   ]
  },
  {
   "cell_type": "code",
   "execution_count": null,
   "metadata": {},
   "outputs": [],
   "source": [
    "#3a - second function used for question #3 below\n",
    "def draw_bs_reps(data, func, size=10000):\n",
    "    \"\"\"Draw bootstrap replicates.\"\"\"\n",
    "\n",
    "    # Initialize array of replicates: bs_replicates\n",
    "    bs_replicates = np.empty(size)\n",
    "\n",
    "    # Generate replicates\n",
    "    for i in range(size):\n",
    "        bs_replicates[i] = bootstrap_replicate_1d(data,func)\n",
    "\n",
    "    return bs_replicates"
   ]
  },
  {
   "cell_type": "code",
   "execution_count": null,
   "metadata": {},
   "outputs": [],
   "source": [
    "#3a - calculate p-value via bootstrapping\n",
    "\n",
    "# Make an array of translated impact forces\n",
    "temperature_translated = df.temperature - np.mean(df.temperature) + 98.6\n",
    "\n",
    "# Take bootstrap replicates of the sample's temperatures\n",
    "bs_replicates = draw_bs_reps(temperature_translated, np.mean, 10000)\n",
    "\n",
    "# Compute fraction of replicates that are less than the observed temperature: p\n",
    "p = np.sum(bs_replicates <= np.mean(df.temperature)) / 10000\n",
    "\n",
    "# Print the p-value\n",
    "print('p = ', p)"
   ]
  },
  {
   "cell_type": "code",
   "execution_count": null,
   "metadata": {},
   "outputs": [],
   "source": [
    "#3b and 3c: Using frequentist statistical testing...\n",
    "\n",
    "#Would you use a one-sample or two-sample test? Why?\n",
    "#I would use a one-sample test because by definition the one sample test is used to determine if a sample of\n",
    "#observations could have been generated by a process with a specific mean. The test is two-tailed because the hypothesis\n",
    "#statement uses an equal sign.\n",
    "\n",
    "#Would you use the t or z test\n",
    "#I would use the t-test because I only have the sample std deviation, not the standard deviation of the entire population"
   ]
  },
  {
   "cell_type": "code",
   "execution_count": null,
   "metadata": {},
   "outputs": [],
   "source": [
    "#3d: calculate p-value using the t-test\n",
    "#H0: u = 98.6\n",
    "#H1: u <> 98.6"
   ]
  },
  {
   "cell_type": "code",
   "execution_count": null,
   "metadata": {},
   "outputs": [],
   "source": [
    "#ttest\n",
    "mean = np.mean(df.temperature)\n",
    "test_value = 98.6\n",
    "sd = np.std(df.temperature)\n",
    "n = df.temperature.count()\n",
    "number_of_tails = 2 \n",
    "\n",
    "t = (mean - test_value)/(sd / np.sqrt(n))\n",
    "print('t-score = ' + str(stats.t.cdf(t, df = n-1) * number_of_tails))\n",
    "\n",
    "#t = 0.0000002\n",
    "#Since the t-value is 0, the probability of finding a mean of 98.6 in this sample set is low. Reject the null hypothesis."
   ]
  },
  {
   "cell_type": "code",
   "execution_count": null,
   "metadata": {},
   "outputs": [],
   "source": [
    "#3e: calculate p-value using the z-test\n",
    "\n",
    "mean = np.mean(df.temperature)\n",
    "test_value = 98.6\n",
    "sd = np.std(df.temperature)\n",
    "n = df.temperature.count()\n",
    "number_of_tails = 2 \n",
    "\n",
    "z = (mean - test_value)/(sd / np.sqrt(n))\n",
    "\n",
    "print('z-score = ' + str(stats.norm.cdf(z) * 2))\n",
    "\n",
    "#z = 0.00000004\n",
    "#Since the z-value is 0, the p-value in the z-table is 0.  Since 0 < 0.05, the probability of finding a mean of 98.6\n",
    "#in this dataset is low. Reject the null hypothesis."
   ]
  },
  {
   "cell_type": "markdown",
   "metadata": {},
   "source": [
    "<div class=\"span5 alert alert-success\">\n",
    "<p> Question #4: <br> \n",
    "Draw a small sample of size 10 from the data and repeat both frequentist tests. <br>\n",
    "Which one is the correct one to use? <br>\n",
    "What do you notice? What does this tell you about the difference in application of the  t  and  z  statistic? </p>\n",
    "    \n",
    "</div>"
   ]
  },
  {
   "cell_type": "code",
   "execution_count": null,
   "metadata": {},
   "outputs": [],
   "source": [
    "df_ten = df.head(10)"
   ]
  },
  {
   "cell_type": "code",
   "execution_count": null,
   "metadata": {},
   "outputs": [],
   "source": [
    "#4 as a t-test\n",
    "\n",
    "#H0: u = 98.6\n",
    "#H1: u <> 98.6\n",
    "\n",
    "mean = np.mean(df_ten.temperature)\n",
    "test_value = 98.6\n",
    "sd = np.std(df_ten.temperature)\n",
    "n = df_ten.temperature.count()\n",
    "number_of_tails = 2 \n",
    "\n",
    "t = (mean - test_value)/(sd / np.sqrt(n))\n",
    "print('t-score = ' + str(stats.t.cdf(t, df = n-1) * number_of_tails))\n",
    "\n",
    "#Looking up the t-score of 0.85 with 9 degrees of freedom in the t-table gives a value of ?????? \n"
   ]
  },
  {
   "cell_type": "code",
   "execution_count": null,
   "metadata": {},
   "outputs": [],
   "source": [
    "#4 as a z-test\n",
    "\n",
    "#H0: u = 98.6\n",
    "#H1: u <> 98.6\n",
    "\n",
    "mean = np.mean(df_ten.temperature)\n",
    "test_value = 98.6\n",
    "sd = np.std(df_ten.temperature)\n",
    "n = df_ten.temperature.count()\n",
    "number_of_tails = 2 \n",
    "\n",
    "z = (mean - test_value)/(sd / np.sqrt(n))\n",
    "\n",
    "print('z-score = ' + str(stats.norm.cdf(z) * 2))\n",
    "\n",
    "#z = 0.85\n",
    "#Since the z-value is 0.85, the p-value in the z-table is 0.0359 (3.5%)  Since 0.035 < 0.05, the probability of finding a mean of 98.6\n",
    "#in this dataset is low. Reject the null hypothesis.\n"
   ]
  },
  {
   "cell_type": "code",
   "execution_count": null,
   "metadata": {},
   "outputs": [],
   "source": [
    "#4 Which one (t-test or z-test) is the right one to use?\n",
    "#Since I'm only using my sample std dev (not using the population std dev), the t-test is the right one to use."
   ]
  },
  {
   "cell_type": "code",
   "execution_count": null,
   "metadata": {},
   "outputs": [],
   "source": [
    "#4 What do you notice? What does this tell you about the difference in application of the  t  and  z  statistic?\n",
    "#I notice that the t-test and z-test score are the same value. I'm concluding that the difference in application\n",
    "#between the t-test and z-test is minimal."
   ]
  },
  {
   "cell_type": "markdown",
   "metadata": {},
   "source": [
    "<div class=\"span5 alert alert-success\">\n",
    "<p> Question #5: <br> \n",
    "At what temperature should we consider someone's temperature to be \"abnormal\"? <br> <br>\n",
    "    \n",
    "As in the previous example, try calculating everything using the boostrap approach, as well as the frequentist approach.\n",
    "Start by computing the margin of error and confidence interval. When calculating the confidence interval, keep in mind that you should use the appropriate formula for one draw, and not N draws. </p>\n",
    "    \n",
    "</div>"
   ]
  },
  {
   "cell_type": "code",
   "execution_count": null,
   "metadata": {},
   "outputs": [],
   "source": [
    "#5 Given the mean of 98.6, we can consider someone's temperature abnormal in the sample when their temperature is > one\n",
    "#standard deviation above or below the mean.\n",
    "\n",
    "mean = np.mean(df.temperature)\n",
    "std = np.std(df.temperature)\n",
    "\n",
    "print('mean: ' + str(mean))\n",
    "print('std: ' + str(std))\n",
    "print('range for one std: ' + str(mean - std) + ' < ' + str(mean) + ' < ' + str(mean+std))\n"
   ]
  },
  {
   "cell_type": "code",
   "execution_count": null,
   "metadata": {},
   "outputs": [],
   "source": [
    "#5 Margin of error formula is sqrt(p(1-p)/samplesize)\n",
    "count_over = df.temperature[df.temperature > 98.5].count()\n",
    "total_count = df.temperature.count()\n",
    "\n",
    "p = count_over/total_count\n",
    "print('percent of sample with abnormal temperature: ' + str(p))\n",
    "\n",
    "margin_of_error = np.sqrt(0.38 * (1-0.38)/130)\n",
    "print('margin of error: ' + str(margin_of_error))"
   ]
  },
  {
   "cell_type": "markdown",
   "metadata": {},
   "source": [
    "<div class=\"span5 alert alert-success\">\n",
    "<p> Question #6: <br> \n",
    "Is there a significant difference between males and females in normal temperature? <br> <br>\n",
    "    \n",
    "What testing approach did you use and why? <br>\n",
    "Write a story with your conclusion in the context of the original problem.\n",
    "    \n",
    "</div>"
   ]
  },
  {
   "cell_type": "code",
   "execution_count": null,
   "metadata": {},
   "outputs": [],
   "source": [
    "#6 Determine the mean temperature of males and females in the sample data set.\n",
    "\n",
    "df_f = df.temperature[df.gender == 'F']\n",
    "df_m = df.temperature[df.gender == 'M']\n",
    "\n",
    "f_mean = np.mean(df.temperature[df.gender == 'F'])\n",
    "m_mean = np.mean(df.temperature[df.gender == 'M'])\n",
    "\n",
    "print('percent females: ' + str(f_mean))\n",
    "print('percent males: ' + str(m_mean))"
   ]
  },
  {
   "cell_type": "code",
   "execution_count": null,
   "metadata": {},
   "outputs": [],
   "source": [
    "#6 Complete a difference of means test on the hypothesis below to determine the probability that females\n",
    "#have higher temperatures than males\n",
    "\n",
    "#The observed difference of means in the sample data is that females' mean temperature is 0.29 (98.39 - 98.10) > than males.\n",
    "\n",
    "#Hypothesis:\n",
    "#H0: f > 0.29\n",
    "#H1: f <= 0.29\n",
    "    \n",
    "# Compute the difference of the sample means: mean_diff\n",
    "mean_diff = f_mean - m_mean\n",
    "\n",
    "# Get bootstrap replicates of means\n",
    "bs_replicates_m = draw_bs_reps(df_m, np.mean, 10000)\n",
    "bs_replicates_f = draw_bs_reps(df_f, np.mean, 10000)\n",
    "\n",
    "# Compute samples of difference of means: bs_diff_replicates\n",
    "bs_diff_replicates = bs_replicates_f - bs_replicates_m\n",
    "\n",
    "# Compute 95% confidence interval: conf_int\n",
    "conf_int = np.percentile(bs_diff_replicates, [2.5, 97.5])\n",
    "\n",
    "# Print the results\n",
    "print('difference of means =', mean_diff, 'mm')\n",
    "print('95% confidence interval =', conf_int, 'mm')\n"
   ]
  },
  {
   "cell_type": "code",
   "execution_count": null,
   "metadata": {},
   "outputs": [],
   "source": [
    "#I used the difference of means testing approach\n",
    "#This bootstrapping exercise resulted in a 0.29 difference of means; which is the same value as the original sample.\n",
    "\n",
    "#We're 95% confident that within the sample data, a given female and males temperature will vary within a range\n",
    "#of 0.24 to 0.82.\n",
    "\n",
    "#The story is that within this sample we can be 95% confident that a given female and male's temperature will vary \n",
    "#by a range of 0.24 to 0.82 and trend toward a mean difference of 0.24."
   ]
  }
 ],
 "metadata": {
  "kernelspec": {
   "display_name": "Python 3",
   "language": "python",
   "name": "python3"
  },
  "language_info": {
   "codemirror_mode": {
    "name": "ipython",
    "version": 3
   },
   "file_extension": ".py",
   "mimetype": "text/x-python",
   "name": "python",
   "nbconvert_exporter": "python",
   "pygments_lexer": "ipython3",
   "version": "3.6.5"
  }
 },
 "nbformat": 4,
 "nbformat_minor": 1
}
